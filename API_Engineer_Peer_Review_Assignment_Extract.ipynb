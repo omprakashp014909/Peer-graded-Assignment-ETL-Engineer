{
 "cells": [
  {
   "cell_type": "markdown",
   "metadata": {},
   "source": [
    "<p style=\"text-align:center\">\n",
    "    <a href=\"https://skills.network/?utm_medium=Exinfluencer&utm_source=Exinfluencer&utm_content=000026UJ&utm_term=10006555&utm_id=NA-SkillsNetwork-Channel-SkillsNetworkCoursesIBMDeveloperSkillsNetworkPY0221ENSkillsNetwork899-2023-01-01\">\n",
    "    <img src=\"https://cf-courses-data.s3.us.cloud-object-storage.appdomain.cloud/assets/logos/SN_web_lightmode.png\" width=\"200\" alt=\"Skills Network Logo\"  />\n",
    "    </a>\n",
    "</p>\n"
   ]
  },
  {
   "cell_type": "markdown",
   "metadata": {},
   "source": [
    "# Peer Review Assignment - Data Engineer - Extract API Data\n"
   ]
  },
  {
   "cell_type": "markdown",
   "metadata": {},
   "source": [
    "Estimated time needed: **20** minutes\n"
   ]
  },
  {
   "cell_type": "markdown",
   "metadata": {},
   "source": [
    "## Objectives\n",
    "\n",
    "In this part you will:\n",
    "\n",
    "-   Collect exchange rate data using an API\n",
    "-   Store the data as a CSV\n"
   ]
  },
  {
   "cell_type": "markdown",
   "metadata": {},
   "source": [
    "For this lab, we are going to be using Python and several Python libraries. Some of these libraries might be installed in your lab environment or in SN Labs. Others may need to be installed by you. The cells below will install these libraries when executed.\n"
   ]
  },
  {
   "cell_type": "code",
   "execution_count": 1,
   "metadata": {
    "tags": []
   },
   "outputs": [],
   "source": [
    "#!mamba install pandas==1.3.3 -y\n",
    "#!mamba install requests==2.26.0 -y"
   ]
  },
  {
   "cell_type": "markdown",
   "metadata": {},
   "source": [
    "## Imports\n",
    "\n",
    "Import any additional libraries you may need here.\n"
   ]
  },
  {
   "cell_type": "code",
   "execution_count": 50,
   "metadata": {
    "tags": []
   },
   "outputs": [],
   "source": [
    "import requests\n",
    "import pandas as pd\n",
    "import io"
   ]
  },
  {
   "cell_type": "markdown",
   "metadata": {},
   "source": [
    "## Extract Data Using an API\n"
   ]
  },
  {
   "cell_type": "markdown",
   "metadata": {},
   "source": [
    "Using ExchangeRate-API we will extract currency exchange rate data. Use the below steps to get the access key and to get the data. \n",
    "1. Open the url : https://exchangeratesapi.io/ and click on **Get Free API Key**. \n",
    "2. Subscribe for Free plan and Sign-in with the Google Account. \n",
    "3. Once the account is created you will be redirected to https://apilayer.com website.\n",
    "2. Now, click on the **user icon** and click **Account** as shown below:\n",
    "\n",
    "<img src=\"https://cf-courses-data.s3.us.cloud-object-storage.appdomain.cloud/IBMDeveloperSkillsNetwork-PY0221EN-SkillsNetwork/labs/module%206/Final%20Assignment/Images/account.png\">\n",
    "\n",
    "3. Scroll down and you will get the API Key section. Copy the API key and use in the url in Question 1.\n"
   ]
  },
  {
   "cell_type": "markdown",
   "metadata": {},
   "source": [
    "### Call the API\n",
    "\n",
    " <b> Question 1</b> Using the `requests` library call the endpoint given above and save the text, remember the first few characters of the output: \n"
   ]
  },
  {
   "cell_type": "code",
   "execution_count": 32,
   "metadata": {
    "tags": []
   },
   "outputs": [],
   "source": [
    "# Write your code here\n",
    "url = \"http://api.exchangeratesapi.io/v1/latest?base=EUR&access_key=4790ac89daf4428243c7940c72e5a19a\"  #Make sure to change ******* to your API key.\n"
   ]
  },
  {
   "cell_type": "code",
   "execution_count": 38,
   "metadata": {
    "tags": []
   },
   "outputs": [],
   "source": [
    "response = requests.get(url, auth = ('omprakashp014909@gmail.com','123456'))"
   ]
  },
  {
   "cell_type": "code",
   "execution_count": 39,
   "metadata": {
    "tags": []
   },
   "outputs": [
    {
     "data": {
      "text/plain": [
       "200"
      ]
     },
     "execution_count": 39,
     "metadata": {},
     "output_type": "execute_result"
    }
   ],
   "source": [
    "response.status_code"
   ]
  },
  {
   "cell_type": "code",
   "execution_count": 62,
   "metadata": {
    "tags": []
   },
   "outputs": [],
   "source": [
    "url_data = response.text"
   ]
  },
  {
   "cell_type": "code",
   "execution_count": 63,
   "metadata": {
    "tags": []
   },
   "outputs": [
    {
     "data": {
      "text/plain": [
       "'{\"success\":true,\"timestamp\":1693979642,\"base\":\"EUR\",\"date\":\"2023-09-06\",\"rates\":{\"AED\":3.942904,\"AFN\":78.921414,\"ALL\":109.254011,\"AMD\":414.867799,\"ANG\":1.938227,\"AOA\":888.845961,\"ARS\":375.701906,\"AUD\":1.678436,\"AWG\":1.933455,\"AZN\":1.820699,\"BAM\":1.95798,\"BBD\":2.171425,\"BDT\":118.001408,\"BGN\":1.956739,\"BHD\":0.404666,\"BIF\":3044.355196,\"BMD\":1.073485,\"BND\":1.464547,\"BOB\":7.429273,\"BRL\":5.33372,\"BSD\":1.075498,\"BTC\":4.1734305e-5,\"BTN\":89.319515,\"BWP\":14.732798,\"BYN\":2.715133,\"BYR\":21040.314746,\"BZD\":2.16786,\"CAD\":1.463574,\"CDF\":2667.611447,\"CHF\":0.953953,\"CLF\":0.034007,\"CLP\":938.355017,\"CNY\":7.843951,\"COP\":4386.798276,\"CRC\":577.214858,\"CUC\":1.073485,\"CUP\":28.447364,\"CVE\":110.387929,\"CZK\":24.187613,\"DJF\":191.486755,\"DKK\":7.454229,\"DOP\":61.046179,\"DZD\":147.12093,\"EGP\":33.172309,\"ERN\":16.102282,\"ETB\":59.150274,\"EUR\":1,\"FJD\":2.438744,\"FKP\":0.850332,\"GBP\":0.85341,\"GEL\":2.812681,\"GGP\":0.850332,\"GHS\":12.291729,\"GIP\":0.850332,\"GMD\":64.892029,\"GNF\":9230.902338,\"GTQ\":8.466547,\"GYD\":224.940496,\"HKD\":8.418675,\"HNL\":26.772709,\"HRK\":7.388586,\"HTG\":145.613529,\"HUF\":387.05052,\"IDR\":16419.013574,\"ILS\":4.083001,\"IMP\":0.850332,\"INR\":89.175513,\"IQD\":1406.265935,\"IRR\":45381.597756,\"ISK\":143.299581,\"JEP\":0.850332,\"JMD\":165.784038,\"JOD\":0.760136,\"JPY\":157.941378,\"KES\":156.623221,\"KGS\":94.756471,\"KHR\":4465.699382,\"KMF\":496.058582,\"KPW\":966.168209,\"KRW\":1427.547739,\"KWD\":0.331137,\"KYD\":0.896265,\"KZT\":495.429401,\"LAK\":21209.744352,\"LBP\":16381.387764,\"LKR\":347.390413,\"LRD\":199.936688,\"LSL\":20.568155,\"LTL\":3.169723,\"LVL\":0.64934,\"LYD\":5.201064,\"MAD\":10.93506,\"MDL\":19.196922,\"MGA\":4803.847804,\"MKD\":61.507863,\"MMK\":2258.446186,\"MNT\":3731.97951,\"MOP\":8.685762,\"MRO\":383.23412,\"MUR\":49.111578,\"MVR\":16.595798,\"MWK\":1127.693692,\"MXN\":18.712571,\"MYR\":5.010491,\"MZN\":67.897901,\"NAD\":20.567931,\"NGN\":814.153068,\"NIO\":39.267903,\"NOK\":11.498929,\"NPR\":142.951806,\"NZD\":1.820336,\"OMR\":0.413292,\"PAB\":1.075097,\"PEN\":3.953112,\"PGK\":3.879467,\"PHP\":61.118861,\"PKR\":330.834778,\"PLN\":4.490401,\"PYG\":7820.895097,\"QAR\":3.908525,\"RON\":4.955851,\"RSD\":117.277185,\"RUB\":105.123746,\"RWF\":1280.295475,\"SAR\":4.026696,\"SBD\":8.973022,\"SCR\":14.202482,\"SDG\":645.454714,\"SEK\":11.897665,\"SGD\":1.460042,\"SHP\":1.306163,\"SLE\":24.093887,\"SLL\":21201.337814,\"SOS\":611.352758,\"SSP\":645.164932,\"SRD\":41.017979,\"STD\":22218.981378,\"SYP\":13956.921027,\"SZL\":20.568131,\"THB\":38.036819,\"TJS\":11.810617,\"TMT\":3.757199,\"TND\":3.344995,\"TOP\":2.57234,\"TRY\":28.770165,\"TTD\":7.290292,\"TWD\":34.30322,\"TZS\":2634.895153,\"UAH\":39.720834,\"UGX\":4010.466103,\"USD\":1.073485,\"UYU\":40.434652,\"UZS\":13037.480523,\"VEF\":3517901.701719,\"VES\":35.316035,\"VND\":25838.794691,\"VUV\":130.437095,\"WST\":2.983009,\"XAF\":656.8782,\"XAG\":0.045537,\"XAU\":0.000557,\"XCD\":2.901148,\"XDR\":0.808642,\"XOF\":654.280664,\"XPF\":119.90554,\"YER\":268.746981,\"ZAR\":20.511011,\"ZMK\":9662.629236,\"ZMW\":22.020086,\"ZWL\":345.661876}}'"
      ]
     },
     "execution_count": 63,
     "metadata": {},
     "output_type": "execute_result"
    }
   ],
   "source": [
    "url_data"
   ]
  },
  {
   "cell_type": "markdown",
   "metadata": {},
   "source": [
    "### Save as DataFrame\n",
    "\n",
    " <b> Question 2</b>  Using the data gathered turn it into a `pandas` dataframe. The dataframe should have the Currency as the index and `Rate` as their columns. Make sure to drop unnecessary columns.\n"
   ]
  },
  {
   "cell_type": "code",
   "execution_count": 74,
   "metadata": {
    "tags": []
   },
   "outputs": [
    {
     "data": {
      "text/html": [
       "<div>\n",
       "<style scoped>\n",
       "    .dataframe tbody tr th:only-of-type {\n",
       "        vertical-align: middle;\n",
       "    }\n",
       "\n",
       "    .dataframe tbody tr th {\n",
       "        vertical-align: top;\n",
       "    }\n",
       "\n",
       "    .dataframe thead th {\n",
       "        text-align: right;\n",
       "    }\n",
       "</style>\n",
       "<table border=\"1\" class=\"dataframe\">\n",
       "  <thead>\n",
       "    <tr style=\"text-align: right;\">\n",
       "      <th></th>\n",
       "      <th>success</th>\n",
       "      <th>timestamp</th>\n",
       "      <th>base</th>\n",
       "      <th>date</th>\n",
       "      <th>rates</th>\n",
       "    </tr>\n",
       "  </thead>\n",
       "  <tbody>\n",
       "    <tr>\n",
       "      <th>AED</th>\n",
       "      <td>True</td>\n",
       "      <td>2023-09-06 05:54:02</td>\n",
       "      <td>EUR</td>\n",
       "      <td>2023-09-06</td>\n",
       "      <td>3.942904</td>\n",
       "    </tr>\n",
       "    <tr>\n",
       "      <th>AFN</th>\n",
       "      <td>True</td>\n",
       "      <td>2023-09-06 05:54:02</td>\n",
       "      <td>EUR</td>\n",
       "      <td>2023-09-06</td>\n",
       "      <td>78.921414</td>\n",
       "    </tr>\n",
       "    <tr>\n",
       "      <th>ALL</th>\n",
       "      <td>True</td>\n",
       "      <td>2023-09-06 05:54:02</td>\n",
       "      <td>EUR</td>\n",
       "      <td>2023-09-06</td>\n",
       "      <td>109.254011</td>\n",
       "    </tr>\n",
       "    <tr>\n",
       "      <th>AMD</th>\n",
       "      <td>True</td>\n",
       "      <td>2023-09-06 05:54:02</td>\n",
       "      <td>EUR</td>\n",
       "      <td>2023-09-06</td>\n",
       "      <td>414.867799</td>\n",
       "    </tr>\n",
       "    <tr>\n",
       "      <th>ANG</th>\n",
       "      <td>True</td>\n",
       "      <td>2023-09-06 05:54:02</td>\n",
       "      <td>EUR</td>\n",
       "      <td>2023-09-06</td>\n",
       "      <td>1.938227</td>\n",
       "    </tr>\n",
       "  </tbody>\n",
       "</table>\n",
       "</div>"
      ],
      "text/plain": [
       "     success           timestamp base       date       rates\n",
       "AED     True 2023-09-06 05:54:02  EUR 2023-09-06    3.942904\n",
       "AFN     True 2023-09-06 05:54:02  EUR 2023-09-06   78.921414\n",
       "ALL     True 2023-09-06 05:54:02  EUR 2023-09-06  109.254011\n",
       "AMD     True 2023-09-06 05:54:02  EUR 2023-09-06  414.867799\n",
       "ANG     True 2023-09-06 05:54:02  EUR 2023-09-06    1.938227"
      ]
     },
     "execution_count": 74,
     "metadata": {},
     "output_type": "execute_result"
    }
   ],
   "source": [
    "df = pd.read_json(url_data)\n",
    "df.head()"
   ]
  },
  {
   "cell_type": "code",
   "execution_count": 70,
   "metadata": {
    "tags": []
   },
   "outputs": [
    {
     "data": {
      "text/plain": [
       "'{'"
      ]
     },
     "execution_count": 70,
     "metadata": {},
     "output_type": "execute_result"
    }
   ],
   "source": [
    "url_data[0]"
   ]
  },
  {
   "cell_type": "code",
   "execution_count": 76,
   "metadata": {
    "tags": []
   },
   "outputs": [
    {
     "data": {
      "text/html": [
       "<div>\n",
       "<style scoped>\n",
       "    .dataframe tbody tr th:only-of-type {\n",
       "        vertical-align: middle;\n",
       "    }\n",
       "\n",
       "    .dataframe tbody tr th {\n",
       "        vertical-align: top;\n",
       "    }\n",
       "\n",
       "    .dataframe thead th {\n",
       "        text-align: right;\n",
       "    }\n",
       "</style>\n",
       "<table border=\"1\" class=\"dataframe\">\n",
       "  <thead>\n",
       "    <tr style=\"text-align: right;\">\n",
       "      <th></th>\n",
       "      <th>rates</th>\n",
       "    </tr>\n",
       "  </thead>\n",
       "  <tbody>\n",
       "    <tr>\n",
       "      <th>AED</th>\n",
       "      <td>3.942904</td>\n",
       "    </tr>\n",
       "    <tr>\n",
       "      <th>AFN</th>\n",
       "      <td>78.921414</td>\n",
       "    </tr>\n",
       "    <tr>\n",
       "      <th>ALL</th>\n",
       "      <td>109.254011</td>\n",
       "    </tr>\n",
       "    <tr>\n",
       "      <th>AMD</th>\n",
       "      <td>414.867799</td>\n",
       "    </tr>\n",
       "    <tr>\n",
       "      <th>ANG</th>\n",
       "      <td>1.938227</td>\n",
       "    </tr>\n",
       "    <tr>\n",
       "      <th>...</th>\n",
       "      <td>...</td>\n",
       "    </tr>\n",
       "    <tr>\n",
       "      <th>YER</th>\n",
       "      <td>268.746981</td>\n",
       "    </tr>\n",
       "    <tr>\n",
       "      <th>ZAR</th>\n",
       "      <td>20.511011</td>\n",
       "    </tr>\n",
       "    <tr>\n",
       "      <th>ZMK</th>\n",
       "      <td>9662.629236</td>\n",
       "    </tr>\n",
       "    <tr>\n",
       "      <th>ZMW</th>\n",
       "      <td>22.020086</td>\n",
       "    </tr>\n",
       "    <tr>\n",
       "      <th>ZWL</th>\n",
       "      <td>345.661876</td>\n",
       "    </tr>\n",
       "  </tbody>\n",
       "</table>\n",
       "<p>170 rows × 1 columns</p>\n",
       "</div>"
      ],
      "text/plain": [
       "           rates\n",
       "AED     3.942904\n",
       "AFN    78.921414\n",
       "ALL   109.254011\n",
       "AMD   414.867799\n",
       "ANG     1.938227\n",
       "..           ...\n",
       "YER   268.746981\n",
       "ZAR    20.511011\n",
       "ZMK  9662.629236\n",
       "ZMW    22.020086\n",
       "ZWL   345.661876\n",
       "\n",
       "[170 rows x 1 columns]"
      ]
     },
     "execution_count": 76,
     "metadata": {},
     "output_type": "execute_result"
    }
   ],
   "source": [
    "# Drop unnescessary columns\n",
    "df.drop(columns = [\"success\", \"timestamp\",\"base\",\"date\"])"
   ]
  },
  {
   "cell_type": "markdown",
   "metadata": {},
   "source": [
    "### Load the Data\n",
    "\n",
    "Using the dataframe save it as a CSV names `exchange_rates_1.csv`.\n"
   ]
  },
  {
   "cell_type": "code",
   "execution_count": 79,
   "metadata": {
    "tags": []
   },
   "outputs": [],
   "source": [
    "# Save the Dataframe\n",
    "df.to_csv('exchange_rates_1.csv')"
   ]
  },
  {
   "cell_type": "markdown",
   "metadata": {},
   "source": [
    "Your CSV should be in this format with more currencies\n",
    "\n",
    "| | Rates |\n",
    "| ------- | ------- |\n",
    "|  AED| 4.398618    |\n",
    "|  AFN| 92.917693   |  \n",
    "|  ALL| 123.099093  |\n",
    "|  AMD| 621.935674  |\n",
    "|  ANG| 2.149648    | \n"
   ]
  },
  {
   "cell_type": "markdown",
   "metadata": {},
   "source": [
    "## Authors\n"
   ]
  },
  {
   "cell_type": "markdown",
   "metadata": {},
   "source": [
    "Ramesh Sannareddy, Joseph Santarcangelo and Azim Hirjani\n"
   ]
  },
  {
   "cell_type": "markdown",
   "metadata": {},
   "source": [
    "### Other Contributors\n"
   ]
  },
  {
   "cell_type": "markdown",
   "metadata": {},
   "source": [
    "Rav Ahuja\n"
   ]
  },
  {
   "cell_type": "markdown",
   "metadata": {},
   "source": [
    "## Change Log\n"
   ]
  },
  {
   "cell_type": "markdown",
   "metadata": {},
   "source": [
    "| Date (YYYY-MM-DD) | Version | Changed By        | Change Description                 |\n",
    "| ----------------- | ------- | ----------------- | ---------------------------------- |\n",
    "| 2022-05-06        | 0.3     | Malika            | Updated instructions to get the API and the url|\n",
    "| 2021-04-15        | 0.2     | Malika            | Updated the lab from USD to EUR    |\n",
    "| 2020-11-25        | 0.1     | Ramesh Sannareddy | Created initial version of the lab |\n"
   ]
  },
  {
   "cell_type": "markdown",
   "metadata": {},
   "source": [
    " Copyright © 2020 IBM Corporation. This notebook and its source code are released under the terms of the [MIT License](https://cognitiveclass.ai/mit-license?utm_medium=Exinfluencer&utm_source=Exinfluencer&utm_content=000026UJ&utm_term=10006555&utm_id=NA-SkillsNetwork-Channel-SkillsNetworkCoursesIBMDeveloperSkillsNetworkPY0221ENSkillsNetwork899-2023-01-01&cm_mmc=Email_Newsletter-_-Developer_Ed%2BTech-_-WW_WW-_-SkillsNetwork-Courses-IBM-DA0321EN-SkillsNetwork-21426264&cm_mmca1=000026UJ&cm_mmca2=10006555&cm_mmca3=M12345678&cvosrc=email.Newsletter.M12345678&cvo_campaign=000026UJ).\n"
   ]
  }
 ],
 "metadata": {
  "kernelspec": {
   "display_name": "Python",
   "language": "python",
   "name": "conda-env-python-py"
  },
  "language_info": {
   "codemirror_mode": {
    "name": "ipython",
    "version": 3
   },
   "file_extension": ".py",
   "mimetype": "text/x-python",
   "name": "python",
   "nbconvert_exporter": "python",
   "pygments_lexer": "ipython3",
   "version": "3.7.12"
  }
 },
 "nbformat": 4,
 "nbformat_minor": 4
}
